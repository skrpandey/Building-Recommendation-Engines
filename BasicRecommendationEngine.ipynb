{
 "cells": [
  {
   "cell_type": "markdown",
   "metadata": {},
   "source": [
    "## Building basic recommendation engine\n",
    "\n",
    "1. Loading and formatting data.\n",
    "2. Calculating similarity between users.\n",
    "3. Predicting the unknown ratings for users.\n",
    "4. Recommending items to users based on user-similarity score."
   ]
  },
  {
   "cell_type": "code",
   "execution_count": 46,
   "metadata": {},
   "outputs": [],
   "source": [
    "library(reshape2)\n",
    "library(data.table)\n",
    "library(dplyr)"
   ]
  },
  {
   "cell_type": "markdown",
   "metadata": {},
   "source": [
    "### data loading"
   ]
  },
  {
   "cell_type": "code",
   "execution_count": 47,
   "metadata": {},
   "outputs": [
    {
     "data": {
      "text/html": [
       "<table>\n",
       "<thead><tr><th></th><th scope=col>critic</th><th scope=col>title</th><th scope=col>rating</th></tr></thead>\n",
       "<tbody>\n",
       "\t<tr><th scope=row>26</th><td>Gene Seymour      </td><td>Lady in the Water </td><td>3.0               </td></tr>\n",
       "\t<tr><th scope=row>27</th><td>Gene Seymour      </td><td>Snakes on a Plane </td><td>3.5               </td></tr>\n",
       "\t<tr><th scope=row>28</th><td>Gene Seymour      </td><td>Just My Luck      </td><td>1.5               </td></tr>\n",
       "\t<tr><th scope=row>29</th><td>Gene Seymour      </td><td>Superman Returns  </td><td>5.0               </td></tr>\n",
       "\t<tr><th scope=row>30</th><td>Gene Seymour      </td><td>You Me and Dupree </td><td>3.5               </td></tr>\n",
       "\t<tr><th scope=row>31</th><td>Gene Seymour      </td><td>The Night Listener</td><td>3.0               </td></tr>\n",
       "</tbody>\n",
       "</table>\n"
      ],
      "text/latex": [
       "\\begin{tabular}{r|lll}\n",
       "  & critic & title & rating\\\\\n",
       "\\hline\n",
       "\t26 & Gene Seymour       & Lady in the Water  & 3.0               \\\\\n",
       "\t27 & Gene Seymour       & Snakes on a Plane  & 3.5               \\\\\n",
       "\t28 & Gene Seymour       & Just My Luck       & 1.5               \\\\\n",
       "\t29 & Gene Seymour       & Superman Returns   & 5.0               \\\\\n",
       "\t30 & Gene Seymour       & You Me and Dupree  & 3.5               \\\\\n",
       "\t31 & Gene Seymour       & The Night Listener & 3.0               \\\\\n",
       "\\end{tabular}\n"
      ],
      "text/markdown": [
       "\n",
       "| <!--/--> | critic | title | rating | \n",
       "|---|---|---|---|---|---|\n",
       "| 26 | Gene Seymour       | Lady in the Water  | 3.0                | \n",
       "| 27 | Gene Seymour       | Snakes on a Plane  | 3.5                | \n",
       "| 28 | Gene Seymour       | Just My Luck       | 1.5                | \n",
       "| 29 | Gene Seymour       | Superman Returns   | 5.0                | \n",
       "| 30 | Gene Seymour       | You Me and Dupree  | 3.5                | \n",
       "| 31 | Gene Seymour       | The Night Listener | 3.0                | \n",
       "\n",
       "\n"
      ],
      "text/plain": [
       "   critic       title              rating\n",
       "26 Gene Seymour Lady in the Water  3.0   \n",
       "27 Gene Seymour Snakes on a Plane  3.5   \n",
       "28 Gene Seymour Just My Luck       1.5   \n",
       "29 Gene Seymour Superman Returns   5.0   \n",
       "30 Gene Seymour You Me and Dupree  3.5   \n",
       "31 Gene Seymour The Night Listener 3.0   "
      ]
     },
     "metadata": {},
     "output_type": "display_data"
    }
   ],
   "source": [
    "ratings = read.csv(\"movie_rating.csv\")\n",
    "tail(ratings)"
   ]
  },
  {
   "cell_type": "markdown",
   "metadata": {},
   "source": [
    "The acast() function in reshape2 package casts a data frame to matrix representation."
   ]
  },
  {
   "cell_type": "code",
   "execution_count": 49,
   "metadata": {},
   "outputs": [
    {
     "data": {
      "text/html": [
       "<table>\n",
       "<thead><tr><th></th><th scope=col>Claudia Puig</th><th scope=col>Gene Seymour</th><th scope=col>Jack Matthews</th><th scope=col>Lisa Rose</th><th scope=col>Mick LaSalle</th><th scope=col>Toby</th></tr></thead>\n",
       "<tbody>\n",
       "\t<tr><th scope=row>Just My Luck</th><td>3.0</td><td>1.5</td><td> NA</td><td>3.0</td><td>2  </td><td> NA</td></tr>\n",
       "\t<tr><th scope=row>Lady in the Water</th><td> NA</td><td>3.0</td><td>3.0</td><td>2.5</td><td>3  </td><td> NA</td></tr>\n",
       "\t<tr><th scope=row>Snakes on a Plane</th><td>3.5</td><td>3.5</td><td>4.0</td><td>3.5</td><td>4  </td><td>4.5</td></tr>\n",
       "\t<tr><th scope=row>Superman Returns</th><td>4.0</td><td>5.0</td><td>5.0</td><td>3.5</td><td>3  </td><td>4.0</td></tr>\n",
       "\t<tr><th scope=row>The Night Listener</th><td>4.5</td><td>3.0</td><td>3.0</td><td>3.0</td><td>3  </td><td> NA</td></tr>\n",
       "\t<tr><th scope=row>You Me and Dupree</th><td>2.5</td><td>3.5</td><td>3.5</td><td>2.5</td><td>2  </td><td>1.0</td></tr>\n",
       "</tbody>\n",
       "</table>\n"
      ],
      "text/latex": [
       "\\begin{tabular}{r|llllll}\n",
       "  & Claudia Puig & Gene Seymour & Jack Matthews & Lisa Rose & Mick LaSalle & Toby\\\\\n",
       "\\hline\n",
       "\tJust My Luck & 3.0 & 1.5 &  NA & 3.0 & 2   &  NA\\\\\n",
       "\tLady in the Water &  NA & 3.0 & 3.0 & 2.5 & 3   &  NA\\\\\n",
       "\tSnakes on a Plane & 3.5 & 3.5 & 4.0 & 3.5 & 4   & 4.5\\\\\n",
       "\tSuperman Returns & 4.0 & 5.0 & 5.0 & 3.5 & 3   & 4.0\\\\\n",
       "\tThe Night Listener & 4.5 & 3.0 & 3.0 & 3.0 & 3   &  NA\\\\\n",
       "\tYou Me and Dupree & 2.5 & 3.5 & 3.5 & 2.5 & 2   & 1.0\\\\\n",
       "\\end{tabular}\n"
      ],
      "text/markdown": [
       "\n",
       "| <!--/--> | Claudia Puig | Gene Seymour | Jack Matthews | Lisa Rose | Mick LaSalle | Toby | \n",
       "|---|---|---|---|---|---|\n",
       "| Just My Luck | 3.0 | 1.5 |  NA | 3.0 | 2   |  NA | \n",
       "| Lady in the Water |  NA | 3.0 | 3.0 | 2.5 | 3   |  NA | \n",
       "| Snakes on a Plane | 3.5 | 3.5 | 4.0 | 3.5 | 4   | 4.5 | \n",
       "| Superman Returns | 4.0 | 5.0 | 5.0 | 3.5 | 3   | 4.0 | \n",
       "| The Night Listener | 4.5 | 3.0 | 3.0 | 3.0 | 3   |  NA | \n",
       "| You Me and Dupree | 2.5 | 3.5 | 3.5 | 2.5 | 2   | 1.0 | \n",
       "\n",
       "\n"
      ],
      "text/plain": [
       "                   Claudia Puig Gene Seymour Jack Matthews Lisa Rose\n",
       "Just My Luck       3.0          1.5           NA           3.0      \n",
       "Lady in the Water   NA          3.0          3.0           2.5      \n",
       "Snakes on a Plane  3.5          3.5          4.0           3.5      \n",
       "Superman Returns   4.0          5.0          5.0           3.5      \n",
       "The Night Listener 4.5          3.0          3.0           3.0      \n",
       "You Me and Dupree  2.5          3.5          3.5           2.5      \n",
       "                   Mick LaSalle Toby\n",
       "Just My Luck       2             NA \n",
       "Lady in the Water  3             NA \n",
       "Snakes on a Plane  4            4.5 \n",
       "Superman Returns   3            4.0 \n",
       "The Night Listener 3             NA \n",
       "You Me and Dupree  2            1.0 "
      ]
     },
     "metadata": {},
     "output_type": "display_data"
    }
   ],
   "source": [
    "#data processing and formatting\n",
    "movie_ratings = as.data.frame(acast(ratings, title~critic, value.var=\"rating\"))\n",
    "head(movie_ratings)"
   ]
  },
  {
   "cell_type": "code",
   "execution_count": 50,
   "metadata": {},
   "outputs": [
    {
     "data": {
      "text/html": [
       "<table>\n",
       "<thead><tr><th></th><th scope=col>Claudia Puig</th><th scope=col>Gene Seymour</th><th scope=col>Jack Matthews</th><th scope=col>Lisa Rose</th><th scope=col>Mick LaSalle</th><th scope=col>Toby</th></tr></thead>\n",
       "<tbody>\n",
       "\t<tr><th scope=row>Claudia Puig</th><td>1.0000000</td><td>0.7559289</td><td>0.9285714</td><td>0.9449112</td><td>0.6546537</td><td>0.8934051</td></tr>\n",
       "\t<tr><th scope=row>Gene Seymour</th><td>0.7559289</td><td>1.0000000</td><td>0.9449112</td><td>0.5000000</td><td>0.0000000</td><td>0.3812464</td></tr>\n",
       "\t<tr><th scope=row>Jack Matthews</th><td>0.9285714</td><td>0.9449112</td><td>1.0000000</td><td>0.7559289</td><td>0.3273268</td><td>0.6628490</td></tr>\n",
       "\t<tr><th scope=row>Lisa Rose</th><td>0.9449112</td><td>0.5000000</td><td>0.7559289</td><td>1.0000000</td><td>0.8660254</td><td>0.9912407</td></tr>\n",
       "\t<tr><th scope=row>Mick LaSalle</th><td>0.6546537</td><td>0.0000000</td><td>0.3273268</td><td>0.8660254</td><td>1.0000000</td><td>0.9244735</td></tr>\n",
       "\t<tr><th scope=row>Toby</th><td>0.8934051</td><td>0.3812464</td><td>0.6628490</td><td>0.9912407</td><td>0.9244735</td><td>1.0000000</td></tr>\n",
       "</tbody>\n",
       "</table>\n"
      ],
      "text/latex": [
       "\\begin{tabular}{r|llllll}\n",
       "  & Claudia Puig & Gene Seymour & Jack Matthews & Lisa Rose & Mick LaSalle & Toby\\\\\n",
       "\\hline\n",
       "\tClaudia Puig & 1.0000000 & 0.7559289 & 0.9285714 & 0.9449112 & 0.6546537 & 0.8934051\\\\\n",
       "\tGene Seymour & 0.7559289 & 1.0000000 & 0.9449112 & 0.5000000 & 0.0000000 & 0.3812464\\\\\n",
       "\tJack Matthews & 0.9285714 & 0.9449112 & 1.0000000 & 0.7559289 & 0.3273268 & 0.6628490\\\\\n",
       "\tLisa Rose & 0.9449112 & 0.5000000 & 0.7559289 & 1.0000000 & 0.8660254 & 0.9912407\\\\\n",
       "\tMick LaSalle & 0.6546537 & 0.0000000 & 0.3273268 & 0.8660254 & 1.0000000 & 0.9244735\\\\\n",
       "\tToby & 0.8934051 & 0.3812464 & 0.6628490 & 0.9912407 & 0.9244735 & 1.0000000\\\\\n",
       "\\end{tabular}\n"
      ],
      "text/markdown": [
       "\n",
       "| <!--/--> | Claudia Puig | Gene Seymour | Jack Matthews | Lisa Rose | Mick LaSalle | Toby | \n",
       "|---|---|---|---|---|---|\n",
       "| Claudia Puig | 1.0000000 | 0.7559289 | 0.9285714 | 0.9449112 | 0.6546537 | 0.8934051 | \n",
       "| Gene Seymour | 0.7559289 | 1.0000000 | 0.9449112 | 0.5000000 | 0.0000000 | 0.3812464 | \n",
       "| Jack Matthews | 0.9285714 | 0.9449112 | 1.0000000 | 0.7559289 | 0.3273268 | 0.6628490 | \n",
       "| Lisa Rose | 0.9449112 | 0.5000000 | 0.7559289 | 1.0000000 | 0.8660254 | 0.9912407 | \n",
       "| Mick LaSalle | 0.6546537 | 0.0000000 | 0.3273268 | 0.8660254 | 1.0000000 | 0.9244735 | \n",
       "| Toby | 0.8934051 | 0.3812464 | 0.6628490 | 0.9912407 | 0.9244735 | 1.0000000 | \n",
       "\n",
       "\n"
      ],
      "text/plain": [
       "              Claudia Puig Gene Seymour Jack Matthews Lisa Rose Mick LaSalle\n",
       "Claudia Puig  1.0000000    0.7559289    0.9285714     0.9449112 0.6546537   \n",
       "Gene Seymour  0.7559289    1.0000000    0.9449112     0.5000000 0.0000000   \n",
       "Jack Matthews 0.9285714    0.9449112    1.0000000     0.7559289 0.3273268   \n",
       "Lisa Rose     0.9449112    0.5000000    0.7559289     1.0000000 0.8660254   \n",
       "Mick LaSalle  0.6546537    0.0000000    0.3273268     0.8660254 1.0000000   \n",
       "Toby          0.8934051    0.3812464    0.6628490     0.9912407 0.9244735   \n",
       "              Toby     \n",
       "Claudia Puig  0.8934051\n",
       "Gene Seymour  0.3812464\n",
       "Jack Matthews 0.6628490\n",
       "Lisa Rose     0.9912407\n",
       "Mick LaSalle  0.9244735\n",
       "Toby          1.0000000"
      ]
     },
     "metadata": {},
     "output_type": "display_data"
    }
   ],
   "source": [
    "#similarity calculation\n",
    "sim_users = cor(movie_ratings[,1:6],use=\"complete.obs\")\n",
    "sim_users"
   ]
  },
  {
   "cell_type": "markdown",
   "metadata": {},
   "source": [
    "#### Predicting the unknown values\n",
    "1. Extract the titles which Toby has not rated.\n",
    "2. For these titles, separate all the ratings given by other critics.\n",
    "3. Multiply the ratings given for these movies by all critics other than Toby with the similarity values of critics with Toby.\n",
    "4. Sum up the total ratings for each movie, and divide this summed up value with the sum of similarity critic values.\n",
    "\n",
    "\n",
    "The set* functions in data.table help manipulate input data by reference instead of value, that is, while transforming data, there won't be any physical copy of the data.\n",
    "\n",
    "Sum up all the rating values for each title calculated in the preceding step, and then divide\n",
    "this summed up value for each title with the sum of similarity values of each critic, that\n",
    "is, for the Just My Luck title, the rating for Toby is calculated by summing up all the\n",
    "sim_rating values for Just My Luck divided by the sum of similarity values of all the\n",
    "critics who have rated the Just My Luck title:\n",
    "(2.6802154+0.5718696+2.9737221+1.8489469)/(0.8934051+0.3812464+0.9912407+0.9244735)\n",
    "= 2.530981"
   ]
  },
  {
   "cell_type": "code",
   "execution_count": 51,
   "metadata": {},
   "outputs": [],
   "source": [
    "#sim_users[colnames(sim_users) == 'Toby']\n",
    "#sim_users[,6]\n",
    "#predicting the unknown values\n",
    "#seperating the non rated movies of Toby\n",
    "rating_critic  = setDT(movie_ratings[colnames(movie_ratings)[6]],keep.rownames = TRUE)[]\n",
    "names(rating_critic) = c('title','rating')\n",
    "titles_na_critic = rating_critic$title[is.na(rating_critic$rating)]\n",
    "ratings_t =ratings[ratings$title %in% titles_na_critic,]\n",
    "#ratings_t"
   ]
  },
  {
   "cell_type": "code",
   "execution_count": 52,
   "metadata": {},
   "outputs": [],
   "source": [
    "#add similarity values for each user as new variable\n",
    "x = (setDT(data.frame(sim_users[,6]),keep.rownames = TRUE)[])\n",
    "names(x) = c('critic','similarity')\n",
    "ratings_t =  merge(x = ratings_t, y = x, by = \"critic\", all.x = TRUE)"
   ]
  },
  {
   "cell_type": "code",
   "execution_count": 53,
   "metadata": {},
   "outputs": [],
   "source": [
    "#mutiply rating with similarity values\n",
    "ratings_t$sim_rating = ratings_t$rating*ratings_t$similarity\n",
    "#predicting the non rated titles\n",
    "result = ratings_t %>% group_by(title) %>% summarise(sum(sim_rating)/sum(similarity))"
   ]
  },
  {
   "cell_type": "code",
   "execution_count": 58,
   "metadata": {},
   "outputs": [],
   "source": [
    "#function to make recommendations \n",
    "generateRecommendations <- function(userId){\n",
    "  rating_critic  = setDT(movie_ratings[colnames(movie_ratings)[userId]],keep.rownames = TRUE)[]\n",
    "  names(rating_critic) = c('title','rating')\n",
    "  titles_na_critic = rating_critic$title[is.na(rating_critic$rating)]\n",
    "  ratings_t =ratings[ratings$title %in% titles_na_critic,]\n",
    "  #add similarity values for each user as new variable\n",
    "  x = (setDT(data.frame(sim_users[,userId]),keep.rownames = TRUE)[])\n",
    "  names(x) = c('critic','similarity')\n",
    "  ratings_t =  merge(x = ratings_t, y = x, by = \"critic\", all.x = TRUE)\n",
    "  #mutiply rating with similarity values\n",
    "  ratings_t$sim_rating = ratings_t$rating*ratings_t$similarity\n",
    "  #predicting the non rated titles\n",
    "  result = ratings_t %>% group_by(title) %>% summarise(sum(sim_rating)/sum(similarity))\n",
    "  return(result)\n",
    "}"
   ]
  },
  {
   "cell_type": "markdown",
   "metadata": {},
   "source": [
    "Ref:- Building Recommendation Engines- Suresh Kumar Gorakala \n",
    "https://www.amazon.com/Building-Recommendation-Engines-Suresh-Gorakala/dp/1785884859"
   ]
  }
 ],
 "metadata": {
  "kernelspec": {
   "display_name": "R",
   "language": "R",
   "name": "ir"
  },
  "language_info": {
   "codemirror_mode": "r",
   "file_extension": ".r",
   "mimetype": "text/x-r-source",
   "name": "R",
   "pygments_lexer": "r",
   "version": "3.4.4"
  }
 },
 "nbformat": 4,
 "nbformat_minor": 2
}
